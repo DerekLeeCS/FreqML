{
  "nbformat": 4,
  "nbformat_minor": 0,
  "metadata": {
    "colab": {
      "name": "Derek_Lee_Market_Basket.ipynb",
      "provenance": [],
      "collapsed_sections": [
        "QU6woHvp_OgG",
        "BiaHVP3R_1ir"
      ],
      "toc_visible": true,
      "authorship_tag": "ABX9TyOC+cH3JowPXdqSb64quFu2",
      "include_colab_link": true
    },
    "kernelspec": {
      "name": "python3",
      "display_name": "Python 3"
    }
  },
  "cells": [
    {
      "cell_type": "markdown",
      "metadata": {
        "id": "view-in-github",
        "colab_type": "text"
      },
      "source": [
        "<a href=\"https://colab.research.google.com/github/DerekLeeCS/FreqML/blob/master/Assignment 7/Derek_Lee_Market_Basket.ipynb\" target=\"_parent\"><img src=\"https://colab.research.google.com/assets/colab-badge.svg\" alt=\"Open In Colab\"/></a>"
      ]
    },
    {
      "cell_type": "markdown",
      "metadata": {
        "id": "ybWVqKpZlqeh",
        "colab_type": "text"
      },
      "source": [
        "# Modules & Constants\n",
        "\n",
        "---\n",
        "\n"
      ]
    },
    {
      "cell_type": "code",
      "metadata": {
        "id": "vUWVCKvhltpz",
        "colab_type": "code",
        "colab": {}
      },
      "source": [
        "import numpy as np\n",
        "import pandas as pd\n",
        "\n",
        "# Default thresholds\n",
        "support = 0.2\n",
        "conf = 0.2      "
      ],
      "execution_count": null,
      "outputs": []
    },
    {
      "cell_type": "markdown",
      "metadata": {
        "id": "w2O-okSVlLbD",
        "colab_type": "text"
      },
      "source": [
        "# Import Data\n",
        "\n",
        "---\n",
        "\n"
      ]
    },
    {
      "cell_type": "code",
      "metadata": {
        "id": "GfZAPuIMlNYO",
        "colab_type": "code",
        "colab": {
          "base_uri": "https://localhost:8080/",
          "height": 299
        },
        "outputId": "ec193928-334e-47b7-af5a-143e724b1931"
      },
      "source": [
        "# Loads data\n",
        "data = pd.read_csv(\"https://raw.githubusercontent.com/DerekLeeCS/FreqML/master/Assignment%207/dataset.csv\")\n",
        "data.head()"
      ],
      "execution_count": null,
      "outputs": [
        {
          "output_type": "execute_result",
          "data": {
            "text/html": [
              "<div>\n",
              "<style scoped>\n",
              "    .dataframe tbody tr th:only-of-type {\n",
              "        vertical-align: middle;\n",
              "    }\n",
              "\n",
              "    .dataframe tbody tr th {\n",
              "        vertical-align: top;\n",
              "    }\n",
              "\n",
              "    .dataframe thead th {\n",
              "        text-align: right;\n",
              "    }\n",
              "</style>\n",
              "<table border=\"1\" class=\"dataframe\">\n",
              "  <thead>\n",
              "    <tr style=\"text-align: right;\">\n",
              "      <th></th>\n",
              "      <th>Disease</th>\n",
              "      <th>Symptom_1</th>\n",
              "      <th>Symptom_2</th>\n",
              "      <th>Symptom_3</th>\n",
              "      <th>Symptom_4</th>\n",
              "      <th>Symptom_5</th>\n",
              "      <th>Symptom_6</th>\n",
              "      <th>Symptom_7</th>\n",
              "      <th>Symptom_8</th>\n",
              "      <th>Symptom_9</th>\n",
              "      <th>Symptom_10</th>\n",
              "      <th>Symptom_11</th>\n",
              "      <th>Symptom_12</th>\n",
              "      <th>Symptom_13</th>\n",
              "      <th>Symptom_14</th>\n",
              "      <th>Symptom_15</th>\n",
              "      <th>Symptom_16</th>\n",
              "      <th>Symptom_17</th>\n",
              "    </tr>\n",
              "  </thead>\n",
              "  <tbody>\n",
              "    <tr>\n",
              "      <th>0</th>\n",
              "      <td>Fungal infection</td>\n",
              "      <td>itching</td>\n",
              "      <td>skin_rash</td>\n",
              "      <td>nodal_skin_eruptions</td>\n",
              "      <td>dischromic _patches</td>\n",
              "      <td>NaN</td>\n",
              "      <td>NaN</td>\n",
              "      <td>NaN</td>\n",
              "      <td>NaN</td>\n",
              "      <td>NaN</td>\n",
              "      <td>NaN</td>\n",
              "      <td>NaN</td>\n",
              "      <td>NaN</td>\n",
              "      <td>NaN</td>\n",
              "      <td>NaN</td>\n",
              "      <td>NaN</td>\n",
              "      <td>NaN</td>\n",
              "      <td>NaN</td>\n",
              "    </tr>\n",
              "    <tr>\n",
              "      <th>1</th>\n",
              "      <td>Fungal infection</td>\n",
              "      <td>skin_rash</td>\n",
              "      <td>nodal_skin_eruptions</td>\n",
              "      <td>dischromic _patches</td>\n",
              "      <td>NaN</td>\n",
              "      <td>NaN</td>\n",
              "      <td>NaN</td>\n",
              "      <td>NaN</td>\n",
              "      <td>NaN</td>\n",
              "      <td>NaN</td>\n",
              "      <td>NaN</td>\n",
              "      <td>NaN</td>\n",
              "      <td>NaN</td>\n",
              "      <td>NaN</td>\n",
              "      <td>NaN</td>\n",
              "      <td>NaN</td>\n",
              "      <td>NaN</td>\n",
              "      <td>NaN</td>\n",
              "    </tr>\n",
              "    <tr>\n",
              "      <th>2</th>\n",
              "      <td>Fungal infection</td>\n",
              "      <td>itching</td>\n",
              "      <td>nodal_skin_eruptions</td>\n",
              "      <td>dischromic _patches</td>\n",
              "      <td>NaN</td>\n",
              "      <td>NaN</td>\n",
              "      <td>NaN</td>\n",
              "      <td>NaN</td>\n",
              "      <td>NaN</td>\n",
              "      <td>NaN</td>\n",
              "      <td>NaN</td>\n",
              "      <td>NaN</td>\n",
              "      <td>NaN</td>\n",
              "      <td>NaN</td>\n",
              "      <td>NaN</td>\n",
              "      <td>NaN</td>\n",
              "      <td>NaN</td>\n",
              "      <td>NaN</td>\n",
              "    </tr>\n",
              "    <tr>\n",
              "      <th>3</th>\n",
              "      <td>Fungal infection</td>\n",
              "      <td>itching</td>\n",
              "      <td>skin_rash</td>\n",
              "      <td>dischromic _patches</td>\n",
              "      <td>NaN</td>\n",
              "      <td>NaN</td>\n",
              "      <td>NaN</td>\n",
              "      <td>NaN</td>\n",
              "      <td>NaN</td>\n",
              "      <td>NaN</td>\n",
              "      <td>NaN</td>\n",
              "      <td>NaN</td>\n",
              "      <td>NaN</td>\n",
              "      <td>NaN</td>\n",
              "      <td>NaN</td>\n",
              "      <td>NaN</td>\n",
              "      <td>NaN</td>\n",
              "      <td>NaN</td>\n",
              "    </tr>\n",
              "    <tr>\n",
              "      <th>4</th>\n",
              "      <td>Fungal infection</td>\n",
              "      <td>itching</td>\n",
              "      <td>skin_rash</td>\n",
              "      <td>nodal_skin_eruptions</td>\n",
              "      <td>NaN</td>\n",
              "      <td>NaN</td>\n",
              "      <td>NaN</td>\n",
              "      <td>NaN</td>\n",
              "      <td>NaN</td>\n",
              "      <td>NaN</td>\n",
              "      <td>NaN</td>\n",
              "      <td>NaN</td>\n",
              "      <td>NaN</td>\n",
              "      <td>NaN</td>\n",
              "      <td>NaN</td>\n",
              "      <td>NaN</td>\n",
              "      <td>NaN</td>\n",
              "      <td>NaN</td>\n",
              "    </tr>\n",
              "  </tbody>\n",
              "</table>\n",
              "</div>"
            ],
            "text/plain": [
              "            Disease   Symptom_1  ... Symptom_16 Symptom_17\n",
              "0  Fungal infection     itching  ...        NaN        NaN\n",
              "1  Fungal infection   skin_rash  ...        NaN        NaN\n",
              "2  Fungal infection     itching  ...        NaN        NaN\n",
              "3  Fungal infection     itching  ...        NaN        NaN\n",
              "4  Fungal infection     itching  ...        NaN        NaN\n",
              "\n",
              "[5 rows x 18 columns]"
            ]
          },
          "metadata": {
            "tags": []
          },
          "execution_count": 521
        }
      ]
    },
    {
      "cell_type": "markdown",
      "metadata": {
        "id": "wY8ywbOAiOBp",
        "colab_type": "text"
      },
      "source": [
        "# Association Rule-Generation Functions\n",
        "\n",
        "---\n",
        "\n",
        "Code from Listing 11.3 of textbook"
      ]
    },
    {
      "cell_type": "code",
      "metadata": {
        "id": "M5gA3O8viWIT",
        "colab_type": "code",
        "colab": {}
      },
      "source": [
        "def generateRules(L, supportData, minConf=conf):\n",
        "    bigRuleList = []\n",
        "    for i in range(1, len(L)):\n",
        "        for freqSet in L[i]:\n",
        "            H1 = [frozenset([item]) for item in freqSet]\n",
        "            if (i > 1):\n",
        "                rulesFromConseq(freqSet, H1, supportData, bigRuleList, minConf)\n",
        "            else:\n",
        "                calcConf(freqSet, H1, supportData, bigRuleList, minConf)\n",
        "    return bigRuleList\n",
        "\n",
        "def calcConf(freqSet, H, supportData, brl, minConf=conf):\n",
        "    prunedH = []\n",
        "    for conseq in H:\n",
        "        conf = supportData[freqSet]/supportData[freqSet-conseq]\n",
        "        if conf >= minConf:\n",
        "            print(freqSet-conseq,'-->',conseq,'conf:',conf)\n",
        "            brl.append((freqSet-conseq, conseq, conf))\n",
        "            prunedH.append(conseq)\n",
        "    return prunedH\n",
        "\n",
        "def rulesFromConseq(freqSet, H, supportData, brl, minConf=conf):\n",
        "    m = len(H[0])\n",
        "    if (len(freqSet) > (m + 1)):\n",
        "        Hmp1 = aprioriGen(H, m + 1)\n",
        "        Hmp1 = calcConf(freqSet, Hmp1, supportData, brl, minConf)\n",
        "        if (len(Hmp1) > 1):\n",
        "            rulesFromConseq(freqSet, Hmp1, supportData, brl, minConf)"
      ],
      "execution_count": null,
      "outputs": []
    },
    {
      "cell_type": "markdown",
      "metadata": {
        "id": "qQO5CUiEnOLS",
        "colab_type": "text"
      },
      "source": [
        "# Market Basket\n",
        "\n",
        "---\n",
        "\n",
        "I ended up rewriting the textbook code for Apriori.py so it would work with strings. \n",
        "<br><br>\n",
        "The support for the data is very small (0.2 and up will give no rules). However, the confidence is very high. \n",
        "<br><br>\n",
        "Surprisingly, there were no `disease -> symptom` or `symptom -> disease` relationships. There were only `symptom -> symptom` relationships. \n",
        "<br><br>\n",
        "In hindsight, the reason for this is clear; There are 41 unique diseases, and 120 examples for each disease. Thus, the only way for a disease to be involved in a rule is if the minimum support is lowered to 1/41. However, that is a bad idea, as most symptoms occur in more than one disease, meaning a single symptom usually occurs more often than a single disease, so a lowered support would also catch many symptoms and create uninteresting rules."
      ]
    },
    {
      "cell_type": "code",
      "metadata": {
        "id": "8uP21ZYdnPaC",
        "colab_type": "code",
        "colab": {
          "base_uri": "https://localhost:8080/",
          "height": 84
        },
        "outputId": "6df2f24f-f256-4368-efb3-60abef28fdf3"
      },
      "source": [
        "def createC1DF(dataSet):\n",
        "    tempC1 = []\n",
        "    # Gets unique values in each column\n",
        "    for col in dataSet.columns:\n",
        "        tempC1.append( set(pd.unique(dataSet[col].dropna().values.ravel())) )\n",
        "\n",
        "    # Gets unique values across all sets\n",
        "    C1 = tempC1[0]\n",
        "    for col in tempC1:\n",
        "        C1 |= col\n",
        "\n",
        "    # Creates a list of frozensets\n",
        "    # Each frozenset represents one unique item\n",
        "    newList = []\n",
        "    for item in C1:\n",
        "        newList.append(frozenset({item}))\n",
        "    return newList\n",
        "\n",
        "def scanDDF(D, Ck, minSupport):\n",
        "    ssCnt = {}\n",
        "    listD = []\n",
        "\n",
        "    # Creates a list of sets\n",
        "    # Each set represents one input\n",
        "    for index, row in D.iterrows():\n",
        "        listD.append( set(row.dropna().values.ravel()) )\n",
        "\n",
        "    # Counts frequency of subsets\n",
        "    for tid in listD:\n",
        "        for can in Ck:\n",
        "            if can.issubset(tid):\n",
        "                if not can in ssCnt: \n",
        "                    ssCnt[can] = 1\n",
        "                else: \n",
        "                    ssCnt[can] += 1\n",
        "        \n",
        "    numItems = float(len(listD))\n",
        "    retList = []\n",
        "    supportData = {}\n",
        "\n",
        "    # Adds subset to list if support is higher than minimum support\n",
        "    for key in ssCnt:\n",
        "        support = ssCnt[key]/numItems\n",
        "        if support >= minSupport:\n",
        "            retList.insert(0,key)\n",
        "        supportData[key] = support\n",
        "    return retList, supportData\n",
        "\n",
        "# Creates Ck\n",
        "def aprioriGenDF(Lk, k): \n",
        "    retList = []\n",
        "    lenLk = len(Lk)\n",
        "    for i in range(lenLk):\n",
        "        for j in range(i+1, lenLk):\n",
        "            L1 = list(Lk[i])[:k-2]; L2 = list(Lk[j])[:k-2]\n",
        "            L1.sort(); L2.sort()\n",
        "            if L1==L2:\n",
        "                retList.append( Lk[i] | Lk[j] )\n",
        "    return retList\n",
        "\n",
        "# Apriori Algorithm\n",
        "def aprioriDF(dataSet, minSupport=support):\n",
        "    C1 = createC1DF(dataSet)\n",
        "    L1, supportData = scanDDF(dataSet, C1, minSupport)\n",
        "    L = [L1]\n",
        "    k = 2\n",
        "    while (len(L[k-2]) > 0):\n",
        "        Ck = aprioriGenDF(L[k-2], k)\n",
        "        Lk, supK = scanDDF(dataSet, Ck, minSupport)\n",
        "        supportData.update(supK)\n",
        "        L.append(Lk)\n",
        "        k += 1\n",
        "    return L, supportData\n",
        "\n",
        "\n",
        "L,suppData = aprioriDF(data,0.15)\n",
        "rules = generateRules(L,suppData,0.8)\n",
        "#print(L)\n",
        "#print(rules)"
      ],
      "execution_count": null,
      "outputs": [
        {
          "output_type": "stream",
          "text": [
            "frozenset({' abdominal_pain'}) --> frozenset({' vomiting'}) conf: 0.8430232558139534\n",
            "frozenset({' yellowish_skin'}) --> frozenset({' abdominal_pain'}) conf: 0.8355263157894737\n",
            "frozenset({' yellowing_of_eyes'}) --> frozenset({' loss_of_appetite'}) conf: 0.9632352941176471\n",
            "frozenset({' nausea'}) --> frozenset({' vomiting'}) conf: 0.8534031413612565\n"
          ],
          "name": "stdout"
        }
      ]
    },
    {
      "cell_type": "markdown",
      "metadata": {
        "id": "QU6woHvp_OgG",
        "colab_type": "text"
      },
      "source": [
        "# Apriori.py \n",
        "\n",
        "---\n",
        "\n",
        "Code from Listing 11.1 & 11.2 of textbook (Machine Learning in Action) "
      ]
    },
    {
      "cell_type": "code",
      "metadata": {
        "id": "_7Mys69V-jSP",
        "colab_type": "code",
        "colab": {}
      },
      "source": [
        "def loadDataSet():\n",
        "    return [[1, 3, 4], [2, 3, 5], [1, 2, 3, 5], [2, 5]]\n",
        "\n",
        "def createC1(dataSet):\n",
        "    C1 = []\n",
        "    for transaction in dataSet:\n",
        "        for item in transaction:\n",
        "            if not [item] in C1:\n",
        "                C1.append([item])\n",
        "    C1.sort()\n",
        "    return list(map(frozenset, C1))\n",
        "\n",
        "def scanD(D, Ck, minSupport):\n",
        "    ssCnt = {}\n",
        "    for tid in D:\n",
        "        for can in Ck: \n",
        "            if can.issubset(tid):\n",
        "                if not can in ssCnt: \n",
        "                    ssCnt[can] = 1\n",
        "                else: \n",
        "                    ssCnt[can] += 1\n",
        "    numItems = float(len(D))\n",
        "    retList = []\n",
        "    supportData = {}\n",
        "    for key in ssCnt:\n",
        "        support = ssCnt[key]/numItems\n",
        "        if support >= minSupport:\n",
        "            retList.insert(0,key)\n",
        "        supportData[key] = support\n",
        "    return retList, supportData\n",
        "\n",
        "# Creates Ck\n",
        "def aprioriGen(Lk, k): \n",
        "    retList = []\n",
        "    lenLk = len(Lk)\n",
        "    for i in range(lenLk):\n",
        "        for j in range(i+1, lenLk):\n",
        "            L1 = list(Lk[i])[:k-2]; L2 = list(Lk[j])[:k-2]\n",
        "            L1.sort(); L2.sort()\n",
        "            if L1==L2:\n",
        "                retList.append(Lk[i] | Lk[j])\n",
        "    return retList\n",
        "\n",
        "def apriori(dataSet, minSupport=support):\n",
        "    C1 = createC1(dataSet)\n",
        "    D = list(map(set, dataSet))\n",
        "    L1, supportData = scanD(D, C1, minSupport)\n",
        "    L = [L1]\n",
        "    k = 2\n",
        "    while (len(L[k-2]) > 0):\n",
        "        Ck = aprioriGen(L[k-2], k)\n",
        "        Lk, supK = scanD(D, Ck, minSupport)\n",
        "        supportData.update(supK)\n",
        "        L.append(Lk)\n",
        "        k += 1\n",
        "    return L, supportData"
      ],
      "execution_count": null,
      "outputs": []
    },
    {
      "cell_type": "markdown",
      "metadata": {
        "id": "BiaHVP3R_1ir",
        "colab_type": "text"
      },
      "source": [
        "# Textbook Example\n",
        "\n",
        "---\n",
        "\n"
      ]
    },
    {
      "cell_type": "code",
      "metadata": {
        "id": "erbEKnzT_8Wh",
        "colab_type": "code",
        "colab": {
          "base_uri": "https://localhost:8080/",
          "height": 50
        },
        "outputId": "0407b86a-13c8-4ba9-fa50-4b0f7fac4afd"
      },
      "source": [
        "dataSet = loadDataSet()\n",
        "L,suppData = apriori(dataSet,0.7)\n",
        "rules = generateRules(L,suppData,0.7)\n",
        "#print(rules)"
      ],
      "execution_count": null,
      "outputs": [
        {
          "output_type": "stream",
          "text": [
            "frozenset({5}) --> frozenset({2}) conf: 1.0\n",
            "frozenset({2}) --> frozenset({5}) conf: 1.0\n"
          ],
          "name": "stdout"
        }
      ]
    }
  ]
}
