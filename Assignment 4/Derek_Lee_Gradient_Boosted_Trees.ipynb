{
  "nbformat": 4,
  "nbformat_minor": 0,
  "metadata": {
    "colab": {
      "name": "Derek_Lee_Gradient_Boosted_Trees.ipynb",
      "provenance": [],
      "collapsed_sections": [
        "dZFHWUlFSkGj"
      ],
      "authorship_tag": "ABX9TyOtJqU1flDqUnmGlk9WLu6c",
      "include_colab_link": true
    },
    "kernelspec": {
      "name": "python3",
      "display_name": "Python 3"
    }
  },
  "cells": [
    {
      "cell_type": "markdown",
      "metadata": {
        "id": "view-in-github",
        "colab_type": "text"
      },
      "source": [
        "<a href=\"https://colab.research.google.com/github/DerekLeeCS/FreqML/blob/master/Assignment 4/Derek_Lee_Gradient_Boosted_Trees.ipynb\" target=\"_parent\"><img src=\"https://colab.research.google.com/assets/colab-badge.svg\" alt=\"Open In Colab\"/></a>"
      ]
    },
    {
      "cell_type": "markdown",
      "metadata": {
        "id": "AMBW-VIyjdAm",
        "colab_type": "text"
      },
      "source": [
        "# Import Data"
      ]
    },
    {
      "cell_type": "code",
      "metadata": {
        "id": "bSqDHjVSf37T",
        "colab_type": "code",
        "colab": {}
      },
      "source": [
        "# California Housing Dataset from Google Colab sample_data\n",
        "import pandas as pd\n",
        "from sklearn.model_selection import train_test_split\n",
        "from sklearn import preprocessing\n",
        "\n",
        "# Load data\n",
        "trainData = pd.read_csv(\"sample_data/california_housing_train.csv\") \n",
        "testData = pd.read_csv(\"sample_data/california_housing_test.csv\") \n",
        "\n",
        "originalData = pd.concat([trainData,testData])              # Merges data into a single DataFrame\n",
        "train, test = train_test_split(originalData, test_size=0.2) # Splits into 80-20\n",
        "valid, test = train_test_split(test, test_size=0.5)         # Finishes split into 80-10-10\n",
        "\n",
        "\n",
        "# Separate into input and output\n",
        "xTrain,yTrain = train.iloc[:,:-1],train.iloc[:,-1]\n",
        "xValid,yValid = valid.iloc[:,:-1],valid.iloc[:,-1]\n",
        "xTest,yTest = test.iloc[:,:-1],test.iloc[:,-1]"
      ],
      "execution_count": null,
      "outputs": []
    },
    {
      "cell_type": "markdown",
      "metadata": {
        "id": "q9Iz_pTtl-9d",
        "colab_type": "text"
      },
      "source": [
        "# Modules\n",
        "\n",
        "---\n",
        "\n"
      ]
    },
    {
      "cell_type": "code",
      "metadata": {
        "id": "oGFb5PSml-kI",
        "colab_type": "code",
        "colab": {}
      },
      "source": [
        "import numpy as np\n",
        "import random\n",
        "import xgboost as xgb\n",
        "import csv\n",
        "\n",
        "# Linspace\n",
        "start = 0\n",
        "end = 10\n",
        "instances = 50\n",
        "\n",
        "# XGBoost Parameters\n",
        "num_round = 10\n",
        "depth = 3"
      ],
      "execution_count": null,
      "outputs": []
    },
    {
      "cell_type": "markdown",
      "metadata": {
        "id": "gAt2YpW7Six4",
        "colab_type": "text"
      },
      "source": [
        "# XGBoost\n",
        "\n",
        "---\n",
        "\n",
        "Lambda did not end up having a significant impact on the error."
      ]
    },
    {
      "cell_type": "code",
      "metadata": {
        "id": "At3zUCcENFQj",
        "colab_type": "code",
        "colab": {
          "base_uri": "https://localhost:8080/",
          "height": 87
        },
        "outputId": "6a81f138-4415-4745-afb7-e565b3a63810"
      },
      "source": [
        "def avgAbsError(yReal,yPred):\n",
        "    n = len(yReal)\n",
        "    error = 0\n",
        "    for i in range(0,n):\n",
        "        error += abs(yReal[i] - yPred[i])/yReal[i]\n",
        "    error /= n\n",
        "    return error\n",
        "\n",
        "def main():\n",
        "    # Read in data\n",
        "    dtrain = xgb.DMatrix(data=xTrain,label=yTrain)\n",
        "    dvalid = xgb.DMatrix(data=xValid,label=yValid)\n",
        "    dtest = xgb.DMatrix(data=xTest,label=yTest)\n",
        "\n",
        "\n",
        "    # Calculate the best lambda\n",
        "    lamb = np.linspace(start,end,instances)\n",
        "    error = np.zeros( (instances,1) )\n",
        "\n",
        "    # Runs XGBoost on all lambdas\n",
        "    for i in range(0,instances):\n",
        "        param = {'max_depth':depth, 'eta':1, 'objective':'reg:squarederror', 'lambda':lamb[i]}\n",
        "        bst = xgb.train(param, dtrain, num_round)\n",
        "        preds = bst.predict(dvalid)\n",
        "        error[i] = avgAbsError(yValid.to_numpy(),preds)\n",
        "\n",
        "    # Finding optimal lambda\n",
        "    index = np.where(error == np.amin(error))\n",
        "    index = random.choice(index[0])  # Chooses a random index if multiple indices have the same minimum error\n",
        "\n",
        "    # Runs XGBoost on optimal lambda\n",
        "    param = {'max_depth':depth, 'eta':1, 'objective':'reg:squarederror', 'lambda':lamb[index]}\n",
        "    bst = xgb.train(param, dtrain, num_round)\n",
        "    preds = bst.predict(dtest)\n",
        "\n",
        "    # Error\n",
        "    error = avgAbsError(yTest.to_numpy(),preds)\n",
        "    print(\"Error: \", end=\"\")\n",
        "    print(error)\n",
        "\n",
        "    # Baseline Error\n",
        "    yAvg = yTrain.mean()\n",
        "    yAvg = np.full(yTest.size,yAvg)     # Creates numpy array to calculate MSE\n",
        "    baseError = avgAbsError(yTest.to_numpy(),yAvg)\n",
        "    print(\"Baseline Error: \", end=\"\")\n",
        "    print(baseError)\n",
        "    \n",
        "    print(bst.get_score(importance_type='gain'))\n",
        "\n",
        "main()"
      ],
      "execution_count": null,
      "outputs": [
        {
          "output_type": "stream",
          "text": [
            "Error: 0.23605685606350685\n",
            "Baseline Error: 0.5955792897649087\n",
            "{'median_income': 5746030751627.777, 'latitude': 1011101951058.8235, 'housing_median_age': 874768243088.8889, 'longitude': 1596388962807.6924, 'total_rooms': 158143785633.33334, 'total_bedrooms': 1109163457500.0, 'population': 564148518160.0, 'households': 100909285000.0}\n"
          ],
          "name": "stdout"
        }
      ]
    },
    {
      "cell_type": "markdown",
      "metadata": {
        "id": "Ngu3dKeB_13k",
        "colab_type": "text"
      },
      "source": [
        "# Testing with Scikit-Learn API\n",
        "\n",
        "---\n",
        "\n"
      ]
    },
    {
      "cell_type": "code",
      "metadata": {
        "id": "26BqsiG6-BDl",
        "colab_type": "code",
        "colab": {
          "base_uri": "https://localhost:8080/",
          "height": 34
        },
        "outputId": "6eaf639e-de59-409d-b005-cce7bebfbe34"
      },
      "source": [
        "xg_reg = xgb.XGBRegressor(objective ='reg:squarederror', colsample_bytree = 0.3, learning_rate = 1,\n",
        "                max_depth = 5, alpha = 10, n_estimators = num_round)\n",
        "xg_reg.fit(xTrain,yTrain)\n",
        "\n",
        "preds = xg_reg.predict(xTest)\n",
        "error = avgAbsError(yTest.to_numpy(),preds)\n",
        "print(\"Error: \", end=\"\")\n",
        "print(error)"
      ],
      "execution_count": null,
      "outputs": [
        {
          "output_type": "stream",
          "text": [
            "Error: 44901.97884765625\n"
          ],
          "name": "stdout"
        }
      ]
    },
    {
      "cell_type": "markdown",
      "metadata": {
        "id": "dZFHWUlFSkGj",
        "colab_type": "text"
      },
      "source": [
        "# Install XGBoost\n",
        "\n",
        "---\n",
        "Instructions from https://xgboost.readthedocs.io/en/latest/build.html\n"
      ]
    },
    {
      "cell_type": "code",
      "metadata": {
        "id": "Gk-DGEytSgo_",
        "colab_type": "code",
        "colab": {
          "base_uri": "https://localhost:8080/",
          "height": 67
        },
        "outputId": "5baf89b1-38d6-408d-ae0e-18068c8b930e"
      },
      "source": [
        "# Ensure that you are downloading one of the following:\n",
        "#   * xgboost-{version}-py2.py3-none-manylinux1_x86_64.whl\n",
        "#   * xgboost-{version}-py2.py3-none-win_amd64.whl\n",
        "!pip3 install xgboost"
      ],
      "execution_count": null,
      "outputs": [
        {
          "output_type": "stream",
          "text": [
            "Requirement already satisfied: xgboost in /usr/local/lib/python3.6/dist-packages (0.90)\n",
            "Requirement already satisfied: scipy in /usr/local/lib/python3.6/dist-packages (from xgboost) (1.4.1)\n",
            "Requirement already satisfied: numpy in /usr/local/lib/python3.6/dist-packages (from xgboost) (1.18.5)\n"
          ],
          "name": "stdout"
        }
      ]
    },
    {
      "cell_type": "code",
      "metadata": {
        "id": "eccP-RnvotzX",
        "colab_type": "code",
        "colab": {}
      },
      "source": [
        "labels = list(originalData.columns)\n",
        "\n",
        "# Normalize the data\n",
        "vals = originalData.values\n",
        "vals = preprocessing.scale(vals)\n",
        "originalData = pd.DataFrame(vals)\n",
        "originalData.columns = labels\n",
        "print(originalData.head)"
      ],
      "execution_count": null,
      "outputs": []
    }
  ]
}
