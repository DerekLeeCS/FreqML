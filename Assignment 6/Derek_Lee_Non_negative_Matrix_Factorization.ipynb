{
  "nbformat": 4,
  "nbformat_minor": 0,
  "metadata": {
    "colab": {
      "name": "Derek_Lee_Non-negative_Matrix_Factorization.ipynb",
      "provenance": [],
      "collapsed_sections": [],
      "authorship_tag": "ABX9TyN6t20jB0S0MWPYidlwDi+a",
      "include_colab_link": true
    },
    "kernelspec": {
      "name": "python3",
      "display_name": "Python 3"
    }
  },
  "cells": [
    {
      "cell_type": "markdown",
      "metadata": {
        "id": "view-in-github",
        "colab_type": "text"
      },
      "source": [
        "<a href=\"https://colab.research.google.com/github/DerekLeeCS/FreqML/blob/master/Assignment%206/Derek_Lee_Non_negative_Matrix_Factorization.ipynb\" target=\"_parent\"><img src=\"https://colab.research.google.com/assets/colab-badge.svg\" alt=\"Open In Colab\"/></a>"
      ]
    },
    {
      "cell_type": "markdown",
      "metadata": {
        "id": "1OCoJkTTWTfO",
        "colab_type": "text"
      },
      "source": [
        "# Modules & Constants\n",
        "\n",
        "---\n",
        "\n"
      ]
    },
    {
      "cell_type": "code",
      "metadata": {
        "id": "Hy5pG_Kl78i8",
        "colab_type": "code",
        "colab": {}
      },
      "source": [
        "from sklearn.decomposition import non_negative_factorization\n",
        "import numpy as np\n",
        "import pandas as pd\n",
        "\n",
        "N = 3       # Number of recommendations\n",
        "user = 10   # User to give recommendations to"
      ],
      "execution_count": null,
      "outputs": []
    },
    {
      "cell_type": "markdown",
      "metadata": {
        "id": "pQ7l0LQfoNC7",
        "colab_type": "text"
      },
      "source": [
        "# Import Data\n",
        "\n",
        "---\n",
        "\n"
      ]
    },
    {
      "cell_type": "code",
      "metadata": {
        "id": "BL2I1nl-oO-B",
        "colab_type": "code",
        "colab": {}
      },
      "source": [
        "# Loads data\n",
        "jokes = pd.read_excel(\"https://raw.githubusercontent.com/DerekLeeCS/FreqML/master/Assignment%206/jester-data-1.xls\")\n",
        "jokes.drop('NumRatings', axis=1, inplace=True)      # Deletes first column (Number of Ratings per User)\n",
        "jokes.replace(99, np.NaN, inplace=True)             # Ratings equal to 99 represent missing ratings\n",
        "jokes += 10                                         # Makes every rating positive (instead of -10 to 10, becomes 0 to 20)\n",
        "\n",
        "# Calculates means for imputation\n",
        "meanRating = jokes.mean()\n",
        "jokes.fillna(meanRating, inplace=True)"
      ],
      "execution_count": null,
      "outputs": []
    },
    {
      "cell_type": "markdown",
      "metadata": {
        "id": "PwgLWcz9WVaG",
        "colab_type": "text"
      },
      "source": [
        "# NMF\n",
        "\n",
        "---\n",
        "\n"
      ]
    },
    {
      "cell_type": "code",
      "metadata": {
        "id": "eeshRhcIWXtc",
        "colab_type": "code",
        "colab": {}
      },
      "source": [
        "W, H, n_iter = non_negative_factorization(jokes, n_components=50, init='random', random_state=0)"
      ],
      "execution_count": null,
      "outputs": []
    },
    {
      "cell_type": "markdown",
      "metadata": {
        "id": "ZShDVix_YgVg",
        "colab_type": "text"
      },
      "source": [
        "# Recommendations\n",
        "\n",
        "---\n",
        "\n"
      ]
    },
    {
      "cell_type": "code",
      "metadata": {
        "id": "FO-AKDAM9Y19",
        "colab_type": "code",
        "colab": {
          "base_uri": "https://localhost:8080/",
          "height": 50
        },
        "outputId": "a6595dca-1b9a-462d-d58d-03ec4ac33c97"
      },
      "source": [
        "predRatings = np.dot(W[user],H)             # Predicts ratings for every joke\n",
        "topN = predRatings.argsort()[-N:][::-1]     # Returns indices of the best N ratings\n",
        "print(\"Recommended Jokes: \",topN)\n",
        "print(\"Predicted Ratings: \",predRatings[topN])"
      ],
      "execution_count": null,
      "outputs": [
        {
          "output_type": "stream",
          "text": [
            "Recommended Jokes:  [34 26 49]\n",
            "Predicted Ratings:  [18.72147089 18.71664265 18.50852062]\n"
          ],
          "name": "stdout"
        }
      ]
    }
  ]
}