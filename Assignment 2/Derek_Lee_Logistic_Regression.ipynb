{
  "nbformat": 4,
  "nbformat_minor": 0,
  "metadata": {
    "colab": {
      "name": "Derek_Lee_Logistic_Regression.ipynb",
      "provenance": [],
      "collapsed_sections": [
        "rr6hc2tUnwov",
        "2VDXORKKnTME"
      ],
      "authorship_tag": "ABX9TyPc4UttTOoUuwGbPZO0Imn1",
      "include_colab_link": true
    },
    "kernelspec": {
      "name": "python3",
      "display_name": "Python 3"
    }
  },
  "cells": [
    {
      "cell_type": "markdown",
      "metadata": {
        "id": "view-in-github",
        "colab_type": "text"
      },
      "source": [
        "<a href=\"https://colab.research.google.com/github/DerekLeeCS/FreqML/blob/master/Assignment 2/Derek_Lee_Logistic_Regression.ipynb\" target=\"_parent\"><img src=\"https://colab.research.google.com/assets/colab-badge.svg\" alt=\"Open In Colab\"/></a>"
      ]
    },
    {
      "cell_type": "code",
      "metadata": {
        "id": "iR4w4_KLKTxb",
        "colab_type": "code",
        "colab": {
          "base_uri": "https://localhost:8080/",
          "height": 34
        },
        "outputId": "9af733ec-a369-42aa-bfef-2d4f1932abfd"
      },
      "source": [
        "# Cancer Dataset taken from http://archive.ics.uci.edu/ml/datasets/Breast+Cancer+Wisconsin+%28Diagnostic%29\n",
        "# Iris Dataset taken from http://archive.ics.uci.edu/ml/datasets/Iris\n",
        "\n",
        "import requests\n",
        "\n",
        "url = \"https://raw.githubusercontent.com/DerekLeeCS/FreqML/master/Assignment%202/irisTrain.txt\"\n",
        "r = requests.get(url, allow_redirects=True)\n",
        "open('train.txt', 'wb').write(r.content)\n",
        "\n",
        "url = \"https://raw.githubusercontent.com/DerekLeeCS/FreqML/master/Assignment%202/irisValid.txt\"\n",
        "r = requests.get(url, allow_redirects=True)\n",
        "open('valid.txt', 'wb').write(r.content)\n",
        "\n",
        "url = \"https://raw.githubusercontent.com/DerekLeeCS/FreqML/master/Assignment%202/irisTest.txt\"\n",
        "r = requests.get(url, allow_redirects=True)\n",
        "open('test.txt', 'wb').write(r.content)"
      ],
      "execution_count": null,
      "outputs": [
        {
          "output_type": "execute_result",
          "data": {
            "text/plain": [
              "324"
            ]
          },
          "metadata": {
            "tags": []
          },
          "execution_count": 5
        }
      ]
    },
    {
      "cell_type": "markdown",
      "metadata": {
        "id": "sqeiXYQZjqju",
        "colab_type": "text"
      },
      "source": [
        "# Modules and Constants\n",
        "\n",
        "---\n",
        "\n"
      ]
    },
    {
      "cell_type": "code",
      "metadata": {
        "id": "mriTfgKAjjcD",
        "colab_type": "code",
        "colab": {}
      },
      "source": [
        "import numpy as np\n",
        "import matplotlib.pyplot as plt\n",
        "import random\n",
        "from sklearn.linear_model import LogisticRegression\n",
        "\n",
        "alpha = 0.1     # Alpha Value\n",
        "N = 79          # Rows in training data\n",
        "n = 11          # Rows in test data\n",
        "p = 4           # Attributes\n",
        "\n",
        "# Linspace Values\n",
        "instances = 25  # Number of theta values tested\n",
        "minRange = 0    # Start point\n",
        "maxRange = 2    # End point"
      ],
      "execution_count": null,
      "outputs": []
    },
    {
      "cell_type": "markdown",
      "metadata": {
        "id": "ytlZpNtQui3f",
        "colab_type": "text"
      },
      "source": [
        "# Functions"
      ]
    },
    {
      "cell_type": "code",
      "metadata": {
        "id": "036RZj-huia1",
        "colab_type": "code",
        "colab": {}
      },
      "source": [
        "def loadFile(f,x,y):\n",
        "    f1 = f.readlines()\n",
        "\n",
        "    row = 0\n",
        "    for line in f1:\n",
        "        tempList = line.split(',')  # Separates the data\n",
        "\n",
        "        if tempList[-1] == 'Iris-setosa\\n':\n",
        "            y[row] = 0\n",
        "        elif tempList[-1] == 'Iris-versicolor\\n':\n",
        "            y[row] = 1\n",
        "        else:\n",
        "            raise Exception(\"Invalid output in file.\")\n",
        "\n",
        "        tempList.insert(0,1)        # First element of input vector is 1\n",
        "        x[row] = tempList[:-1]  \n",
        "        row += 1\n",
        "\n",
        "\n",
        "# Hypothesis function\n",
        "def h(theta,x):\n",
        "    z = np.dot(theta.transpose(),x)\n",
        "    return 1 / (1 + np.exp(-z))\n",
        "\n",
        "\n",
        "# Calculates values for yHat\n",
        "def predictValues(yHat,x,theta):\n",
        "    for i in range(0,len(yHat)):\n",
        "        if np.dot(theta.transpose(),x[i]) >= 0:\n",
        "            yHat[i] = 1\n",
        "        else:\n",
        "            yHat[i] = 0\n",
        "\n",
        "\n",
        "# Calculates % correct\n",
        "def percentCorrect(y,yHat):\n",
        "    size = len(y)\n",
        "\n",
        "    correct = 0\n",
        "    for i in range (0,size):\n",
        "        if y[i] == yHat[i]:\n",
        "            correct += 1\n",
        "\n",
        "    return correct/size * 100\n",
        "\n",
        "\n",
        "# Calculates log likelihood for a given theta\n",
        "def logLikelihood(y,x,theta):\n",
        "    logLike = 0\n",
        "    for i in range(0,len(y)):\n",
        "        logLike += ( y[i] * np.log10(h(theta,x[i])) ) + ( (1-y[i]) * np.log10(1-h(theta,x[i])) )\n",
        "    return logLike"
      ],
      "execution_count": null,
      "outputs": []
    },
    {
      "cell_type": "markdown",
      "metadata": {
        "id": "VY4siHpGKdWO",
        "colab_type": "text"
      },
      "source": [
        "#Part A (SGD w/o Regularization)\n",
        "---\n",
        "\n"
      ]
    },
    {
      "cell_type": "code",
      "metadata": {
        "id": "9ziXkCSSKmL-",
        "colab_type": "code",
        "colab": {
          "base_uri": "https://localhost:8080/",
          "height": 84
        },
        "outputId": "fe49840f-35fb-49ef-ad37-16b365f855a2"
      },
      "source": [
        "def main():\n",
        "    theta = np.zeros( (p+1,1) )\n",
        "\n",
        "    # Train\n",
        "    with open('train.txt', 'r') as f:\n",
        "       \n",
        "        # Initializing input and output matrices\n",
        "        xTrain = np.zeros( (N,p+1) )\n",
        "        yTrain = np.zeros( (N,1) )\n",
        "        \n",
        "        loadFile(f,xTrain,yTrain)\n",
        "\n",
        "        # Stochastic Gradient Descent\n",
        "        for i in range(0,N):\n",
        "            for j in range(0,p+1):\n",
        "                theta[j] = theta[j] + alpha * ( yTrain[i] - h(theta,xTrain[i]) ) * xTrain[i][j]\n",
        "\n",
        "\n",
        "        # Testing Scikit\n",
        "        logreg = LogisticRegression()\n",
        "        logreg.fit(xTrain, yTrain)\n",
        "        \n",
        "\n",
        "    # Test\n",
        "    with open('test.txt', 'r') as f:\n",
        "       \n",
        "        # Initializing input and output matrices\n",
        "        xTest = np.zeros( (n,p+1) )\n",
        "        yTest = np.zeros( (n,1) )\n",
        "        yHat = np.zeros( (n,1) )\n",
        "        loadFile(f,xTest,yTest)\n",
        "\n",
        "        # Testing model\n",
        "        predictValues(yHat,xTest,theta)\n",
        "        percent = percentCorrect(yTest,yHat)\n",
        "        print(\"My Model: \",end=\"\")\n",
        "        print(percent,end=\"%\\n\")\n",
        "        \n",
        "        # Testing Scikit model\n",
        "        y_pred = logreg.predict(xTest)\n",
        "        print(\"Scikit Model: \",end=\"\")\n",
        "        print(logreg.score(xTest, yTest)*100,end=\"%\\n\")\n",
        "\n",
        "\n",
        "main()"
      ],
      "execution_count": null,
      "outputs": [
        {
          "output_type": "stream",
          "text": [
            "My Model: 100.0%\n",
            "Scikit Model: 100.0%\n"
          ],
          "name": "stdout"
        },
        {
          "output_type": "stream",
          "text": [
            "/usr/local/lib/python3.6/dist-packages/sklearn/utils/validation.py:760: DataConversionWarning: A column-vector y was passed when a 1d array was expected. Please change the shape of y to (n_samples, ), for example using ravel().\n",
            "  y = column_or_1d(y, warn=True)\n"
          ],
          "name": "stderr"
        }
      ]
    },
    {
      "cell_type": "markdown",
      "metadata": {
        "id": "iWNKsWN4okxs",
        "colab_type": "text"
      },
      "source": [
        "# Part B (SGD w/ Regularization)\n",
        "---\n",
        "The best lambda value is 0, so SGD w/o Regularization and SGD w/ Regularization both converge to the same point.\n",
        "<br><br>\n",
        "If the lambda value was greater than 0: <br>\n",
        "SGD w/o Regularization converges to a higher likelihood than SGD w/ Regularization. Regularization helps to make the model more generalizable, by discouraging overfitting. However, this means it will usually perform worse on the Training dataset.\n"
      ]
    },
    {
      "cell_type": "code",
      "metadata": {
        "id": "z4BL6xBL7r7h",
        "colab_type": "code",
        "colab": {
          "base_uri": "https://localhost:8080/",
          "height": 296
        },
        "outputId": "c5a0f558-b510-48a4-f171-05e910d93981"
      },
      "source": [
        "def main():\n",
        "    lamb = np.linspace(minRange,maxRange,instances)   \n",
        "    thetaNoReg = np.zeros( (p+1,1) )\n",
        "    logLikeNoReg = np.zeros( (N,1) )            \n",
        "    thetaReg = np.zeros( (instances,p+1) )\n",
        "    logLikeReg = np.zeros( (instances,N) )\n",
        "\n",
        "    # Train\n",
        "    with open('train.txt', 'r') as f:\n",
        "       \n",
        "        # Initializing input and output matrices\n",
        "        xTrain = np.zeros( (N,p+1) )\n",
        "        yTrain = np.zeros( (N,1) )\n",
        "        loadFile(f,xTrain,yTrain)\n",
        "        \n",
        "\n",
        "        # Stochastic Gradient Descent without Regularization\n",
        "        for i in range(0,N):\n",
        "            for j in range(0,p+1):\n",
        "                thetaNoReg[j] = thetaNoReg[j] + alpha * ( yTrain[i] - h(thetaNoReg,xTrain[i]) ) * xTrain[i][j]\n",
        "           \n",
        "            # Log Likelihood without Regularization\n",
        "            logLikeNoReg[i] = logLikelihood(yTrain,xTrain,thetaNoReg)\n",
        "\n",
        "\n",
        "        # Stochastic Gradient Descent with Regularization\n",
        "        # Formula taken from http://timroughgarden.org/s16/l/l6.pdf\n",
        "        for k in range(0,instances):\n",
        "            for i in range(0,N):\n",
        "                for j in range(0,p+1):\n",
        "                    thetaReg[k][j] = thetaReg[k][j] + alpha * ( ( yTrain[i] - h(thetaReg[k],xTrain[i]) ) * xTrain[i][j] - 2*lamb[k] * thetaReg[k][j] )\n",
        "\n",
        "                # Log Likelihood without Regularization\n",
        "                logLikeReg[k][i] = logLikelihood(yTrain,xTrain,thetaReg[k])\n",
        "                \n",
        "                    \n",
        "    # Validation (Choosing lambda)\n",
        "    with open('valid.txt', 'r') as f:\n",
        "\n",
        "        # Initializing input and output matrices\n",
        "        xValid = np.zeros( (n,p+1) )\n",
        "        yValid = np.zeros( (n,1) )\n",
        "        yHat = np.zeros( (instances,n) )\n",
        "        loadFile(f,xValid,yValid)\n",
        "\n",
        "        for i in range(0,instances):\n",
        "            predictValues( yHat[i],xValid,thetaReg[i] )\n",
        "        \n",
        "        # Calculating percent correct\n",
        "        percent = np.zeros( (instances,1) )\n",
        "        for i in range(0,instances):\n",
        "            percent[i] = percentCorrect(yValid,yHat[i])\n",
        "\n",
        "        # Finding optimal lambda\n",
        "        index = np.where(percent == np.amax(percent))\n",
        "        index = random.choice(index[0])  # Chooses a random index if multiple indices have the same maximum percent correct\n",
        "        bestTheta = thetaReg[index]\n",
        "        bestLogLikeReg = logLikeReg[index]\n",
        "\n",
        "\n",
        "    # Test\n",
        "    with open('test.txt', 'r') as f:\n",
        "       \n",
        "        # Initializing input and output matrices\n",
        "        xTest = np.zeros( (n,p+1) )\n",
        "        yTest = np.zeros( (n,1) )\n",
        "        yHat = np.zeros( (n,1) )\n",
        "        loadFile(f,xTest,yTest)\n",
        "\n",
        "        # Testing model\n",
        "        predictValues(yHat,xTest,bestTheta)\n",
        "        percent = percentCorrect(yTest,yHat)\n",
        "        print(\"My Model: \",end=\"\")\n",
        "        print(percent,end=\"%\\n\")\n",
        "\n",
        "\n",
        "    # Plot\n",
        "    plt.figure()\n",
        "    plt.plot(logLikeNoReg,color='r',label='NoReg')\n",
        "    plt.plot(bestLogLikeReg,color='g',label='Reg')\n",
        "    plt.grid(linestyle='-', linewidth=2)\n",
        "    plt.xlabel('Instances')\n",
        "    plt.ylabel('Log Likelihood')\n",
        "    plt.legend()\n",
        "\n",
        "    \n",
        "        \n",
        "main()"
      ],
      "execution_count": null,
      "outputs": [
        {
          "output_type": "stream",
          "text": [
            "My Model: 100.0%\n"
          ],
          "name": "stdout"
        },
        {
          "output_type": "display_data",
          "data": {
            "image/png": "[encoded data removed]",
            "text/plain": [
              "<Figure size 432x288 with 1 Axes>"
            ]
          },
          "metadata": {
            "tags": [],
            "needs_background": "light"
          }
        }
      ]
    },
    {
      "cell_type": "markdown",
      "metadata": {
        "id": "rr6hc2tUnwov",
        "colab_type": "text"
      },
      "source": [
        "# Cancer Code\n",
        "\n"
      ]
    },
    {
      "cell_type": "markdown",
      "metadata": {
        "id": "DC9p-g8tu_O3",
        "colab_type": "text"
      },
      "source": [
        "```\n",
        "N = 455         # Rows in training data\n",
        "n = 57          # Rows in test data\n",
        "p = 30          # Attributes\n",
        "\n",
        "\n",
        "# Loads data from file f into input and output matrices x and y\n",
        "def loadFile(f,x,y):\n",
        "    f1 = f.readlines()\n",
        "\n",
        "    row = 0\n",
        "    for line in f1:\n",
        "        tempList = line.split(',')  # Separates the data\n",
        "        tempList.pop(0)             # Removes first element (Patient ID)\n",
        "\n",
        "        if tempList[0] == 'B':\n",
        "            y[row] = 0\n",
        "        elif tempList[0] == 'M':\n",
        "            y[row] = 1\n",
        "        else:\n",
        "            raise Exception(\"Invalid output in file.\")\n",
        "\n",
        "        tempList[0] = 1             # First element of input vector is 1\n",
        "        x[row] = tempList[0]  \n",
        "        row += 1\n",
        "```"
      ]
    },
    {
      "cell_type": "markdown",
      "metadata": {
        "id": "2VDXORKKnTME",
        "colab_type": "text"
      },
      "source": [
        "# Iris Code"
      ]
    },
    {
      "cell_type": "markdown",
      "metadata": {
        "id": "ZZ4FgWmkvBZi",
        "colab_type": "text"
      },
      "source": [
        "```\n",
        "N = 79          # Rows in training data\n",
        "n = 11          # Rows in test data\n",
        "p = 4           # Attributes\n",
        "\n",
        "\n",
        "def loadFile(f,x,y):\n",
        "    f1 = f.readlines()\n",
        "\n",
        "    row = 0\n",
        "    for line in f1:\n",
        "        tempList = line.split(',')  # Separates the data\n",
        "\n",
        "        if tempList[-1] == 'Iris-setosa\\n':\n",
        "            y[row] = 0\n",
        "        elif tempList[-1] == 'Iris-versicolor\\n':\n",
        "            y[row] = 1\n",
        "        else:\n",
        "            raise Exception(\"Invalid output in file.\")\n",
        "\n",
        "        tempList.insert(0,1)        # First element of input vector is 1\n",
        "        x[row] = tempList[:-1]  \n",
        "        row += 1\n",
        "```"
      ]
    }
  ]
}
