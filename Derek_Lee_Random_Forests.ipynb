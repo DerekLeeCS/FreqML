{
  "nbformat": 4,
  "nbformat_minor": 0,
  "metadata": {
    "colab": {
      "name": "Derek_Lee_Random_Forests.ipynb",
      "provenance": [],
      "collapsed_sections": [],
      "authorship_tag": "ABX9TyNB7+wcWDn3ZeONdYVGkkqO",
      "include_colab_link": true
    },
    "kernelspec": {
      "name": "python3",
      "display_name": "Python 3"
    }
  },
  "cells": [
    {
      "cell_type": "markdown",
      "metadata": {
        "id": "view-in-github",
        "colab_type": "text"
      },
      "source": [
        "<a href=\"https://colab.research.google.com/github/DerekLeeCS/FreqML/blob/master/Derek_Lee_Random_Forests.ipynb\" target=\"_parent\"><img src=\"https://colab.research.google.com/assets/colab-badge.svg\" alt=\"Open In Colab\"/></a>"
      ]
    },
    {
      "cell_type": "markdown",
      "metadata": {
        "id": "s4cK4MsRfMFQ",
        "colab_type": "text"
      },
      "source": [
        "# Import Data\n",
        "\n",
        "---\n",
        "\n"
      ]
    },
    {
      "cell_type": "code",
      "metadata": {
        "id": "MtMeLDhrfKar",
        "colab_type": "code",
        "colab": {}
      },
      "source": [
        "# California Housing Dataset from Google Colab sample_data\n",
        "import pandas as pd\n",
        "from sklearn.model_selection import train_test_split\n",
        "\n",
        "# Load data\n",
        "trainData = pd.read_csv(\"sample_data/california_housing_train.csv\") \n",
        "testData = pd.read_csv(\"sample_data/california_housing_test.csv\") \n",
        "\n",
        "originalData = pd.concat([trainData,testData])              # Merges data into a single DataFrame\n",
        "train, test = train_test_split(originalData, test_size=0.2) # Splits into 80-20\n",
        "valid, test = train_test_split(test, test_size=0.5)         # Finishes split into 80-10-10\n",
        "\n",
        "\n",
        "# Separate into input and output\n",
        "xTrain,yTrain = train.iloc[:,:-1],train.iloc[:,-1]\n",
        "xValid,yValid = valid.iloc[:,:-1],valid.iloc[:,-1]\n",
        "xTest,yTest = test.iloc[:,:-1],test.iloc[:,-1]"
      ],
      "execution_count": null,
      "outputs": []
    },
    {
      "cell_type": "markdown",
      "metadata": {
        "id": "YaohCJaHfF8K",
        "colab_type": "text"
      },
      "source": [
        "# Modules\n",
        "\n",
        "---\n",
        "\n"
      ]
    },
    {
      "cell_type": "code",
      "metadata": {
        "id": "D3koGqkge3nl",
        "colab_type": "code",
        "colab": {
          "base_uri": "https://localhost:8080/",
          "height": 50
        },
        "outputId": "9eeb8071-7a56-423c-bb2c-d0c33ee1af9b"
      },
      "source": [
        "import numpy as np\n",
        "import matplotlib.pyplot as plt\n",
        "import seaborn as sns\n",
        "import pandas as pd\n",
        "from sklearn.ensemble import RandomForestClassifier"
      ],
      "execution_count": null,
      "outputs": [
        {
          "output_type": "stream",
          "text": [
            "/usr/local/lib/python3.6/dist-packages/statsmodels/tools/_testing.py:19: FutureWarning: pandas.util.testing is deprecated. Use the functions in the public API at pandas.testing instead.\n",
            "  import pandas.util.testing as tm\n"
          ],
          "name": "stderr"
        }
      ]
    },
    {
      "cell_type": "markdown",
      "metadata": {
        "id": "yh7KBlw5fpyF",
        "colab_type": "text"
      },
      "source": [
        "# Random Forest\n",
        "\n",
        "---\n",
        "\n",
        "Trying the textbook's approach to this dataset (max_samples = 2 or 6) gives a terrible result. Changing the ccp_alpha parameter also gives a terrible result, and sets all feature importances to 0.\n",
        "<br><br>\n",
        "I started using Average Absolute Error because the textbook used the same metric."
      ]
    },
    {
      "cell_type": "code",
      "metadata": {
        "id": "7X3nNqN1fpB1",
        "colab_type": "code",
        "colab": {
          "base_uri": "https://localhost:8080/",
          "height": 380
        },
        "outputId": "8637503a-22b3-4f24-a078-09b8373b45fa"
      },
      "source": [
        "def avgAbsError(yReal,yPred):\n",
        "    n = len(yReal)\n",
        "    error = 0\n",
        "    for i in range(0,n):\n",
        "        error += abs(yReal[i] - yPred[i])/yReal[i]\n",
        "    error /= n\n",
        "    return error\n",
        "\n",
        "\n",
        "def main():\n",
        "    # Random Forest\n",
        "    clf = RandomForestClassifier(n_estimators=10,oob_score=True)\n",
        "    clf.fit(xTrain,yTrain)\n",
        "    yPred=clf.predict(xTest)\n",
        "    error = avgAbsError(yTest.to_numpy(),yPred)\n",
        "    print(\"Error: \", end=\"\")\n",
        "    print(error)\n",
        "\n",
        "    # Baseline Error\n",
        "    yAvg = yTrain.mean()\n",
        "    yAvg = np.full(yTest.size,yAvg)     # Creates numpy array to calculate MSE\n",
        "    baseError = avgAbsError(yTest.to_numpy(),yAvg)\n",
        "    print(\"Baseline Error: \", end=\"\")\n",
        "    print(baseError)\n",
        "\n",
        "    # Plotting    \n",
        "    plt.figure()\n",
        "    feature_imp = pd.Series( clf.feature_importances_,index=list(xTest.columns) ).sort_values(ascending=False)\n",
        "    sns.barplot(x=feature_imp, y=feature_imp.index)\n",
        "    plt.xlabel('Feature Importance Score')\n",
        "    plt.ylabel('Features')  \n",
        "    \n",
        "\n",
        "main()"
      ],
      "execution_count": null,
      "outputs": [
        {
          "output_type": "stream",
          "text": [
            "/usr/local/lib/python3.6/dist-packages/sklearn/ensemble/_forest.py:523: UserWarning: Some inputs do not have OOB scores. This probably means too few trees were used to compute any reliable oob estimates.\n",
            "  warn(\"Some inputs do not have OOB scores. \"\n",
            "/usr/local/lib/python3.6/dist-packages/sklearn/ensemble/_forest.py:528: RuntimeWarning: invalid value encountered in true_divide\n",
            "  predictions[k].sum(axis=1)[:, np.newaxis])\n"
          ],
          "name": "stderr"
        },
        {
          "output_type": "stream",
          "text": [
            "Error: 0.33324233967327027\n",
            "Baseline Error: 0.6264809287990469\n"
          ],
          "name": "stdout"
        },
        {
          "output_type": "display_data",
          "data": {
            "image/png": "[encoded data removed]",
            "text/plain": [
              "<Figure size 432x288 with 1 Axes>"
            ]
          },
          "metadata": {
            "tags": [],
            "needs_background": "light"
          }
        }
      ]
    }
  ]
}