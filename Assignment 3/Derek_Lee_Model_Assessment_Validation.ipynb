{
  "nbformat": 4,
  "nbformat_minor": 0,
  "metadata": {
    "colab": {
      "name": "Derek_Lee_Model_Assessment_Validation.ipynb",
      "provenance": [],
      "collapsed_sections": [],
      "authorship_tag": "ABX9TyNv+PUncVowqnqcVZ4qdFDD",
      "include_colab_link": true
    },
    "kernelspec": {
      "name": "python3",
      "display_name": "Python 3"
    }
  },
  "cells": [
    {
      "cell_type": "markdown",
      "metadata": {
        "id": "view-in-github",
        "colab_type": "text"
      },
      "source": [
        "<a href=\"https://colab.research.google.com/github/DerekLeeCS/FreqML/blob/master/Derek_Lee_Model_Assessment_Validation.ipynb\" target=\"_parent\"><img src=\"https://colab.research.google.com/assets/colab-badge.svg\" alt=\"Open In Colab\"/></a>"
      ]
    },
    {
      "cell_type": "markdown",
      "metadata": {
        "id": "nlOdxfQuHNm_",
        "colab_type": "text"
      },
      "source": [
        "# Modules and Constants\n",
        "\n",
        "---\n",
        "\n"
      ]
    },
    {
      "cell_type": "code",
      "metadata": {
        "id": "HeUGwEDXwHyR",
        "colab_type": "code",
        "colab": {}
      },
      "source": [
        "import numpy as np\n",
        "import pandas as pd \n",
        "from sklearn.neighbors import KNeighborsClassifier\n",
        "from sklearn.model_selection import KFold\n",
        "\n",
        "# Constants\n",
        "N = 50\n",
        "p = 5000\n",
        "numFolds = 5    # Number of folds used in k-fold Cross Validation"
      ],
      "execution_count": null,
      "outputs": []
    },
    {
      "cell_type": "markdown",
      "metadata": {
        "id": "2vRhxBxUwaFp",
        "colab_type": "text"
      },
      "source": [
        "# Creating the data\n",
        "\n",
        "---\n",
        "\n"
      ]
    },
    {
      "cell_type": "code",
      "metadata": {
        "id": "AEZoKC03L0a5",
        "colab_type": "code",
        "colab": {
          "base_uri": "https://localhost:8080/",
          "height": 34
        },
        "outputId": "f7a2ce09-ff61-4ca5-b66f-bf75dc34cb84"
      },
      "source": [
        "# Calculates the average accuracy given a list of accuracies\n",
        "def avgAccuracy(list):\n",
        "    totalAccuracy = sum(list)\n",
        "    accuracy = totalAccuracy / len(list)\n",
        "    return accuracy\n",
        "    \n",
        "\n",
        "#inputData = sklearn.datasets.make_gaussian_quantiles(n_samples=50,n_features=5000,n_classes=2)\n",
        "inputData = np.random.normal(size=(N,p))\n",
        "y = np.zeros((N,1))\n",
        "\n",
        "classA = 0  # Number of class A inputs\n",
        "classB = 0  # Number of class B inputs\n",
        "\n",
        "# Assigns inputs to classes\n",
        "for i in range(0,50):\n",
        "    curClass = np.random.choice((0,1))  # Randomly selects between 2 classes\n",
        "\n",
        "    # Checks to ensure one class will not have more inputs than the other\n",
        "    # Class A\n",
        "    if curClass == 0:   \n",
        "        if classA == N/2:   # If maximum number of class A is reached\n",
        "            curClass = 0\n",
        "        else:\n",
        "            classA += 1\n",
        "    # Class B\n",
        "    else:\n",
        "        if classB == N/2:   # If maximum number of class B is reached\n",
        "            curClass = 1\n",
        "        else:\n",
        "            classB += 1\n",
        "\n",
        "    y[i] = curClass\n",
        "\n",
        "print(\"Regenerated data\")"
      ],
      "execution_count": null,
      "outputs": [
        {
          "output_type": "stream",
          "text": [
            "Regenerated data\n"
          ],
          "name": "stdout"
        }
      ]
    },
    {
      "cell_type": "markdown",
      "metadata": {
        "id": "QC67sts9y3X0",
        "colab_type": "text"
      },
      "source": [
        "# The Wrong Way\n",
        "\n",
        "---\n",
        "\n",
        "Percent correct is usually around 95%"
      ]
    },
    {
      "cell_type": "code",
      "metadata": {
        "id": "D7N4VjGZy5Jo",
        "colab_type": "code",
        "colab": {
          "base_uri": "https://localhost:8080/",
          "height": 34
        },
        "outputId": "a5b0e0a6-e441-428a-e6b3-b3f0c32d62bf"
      },
      "source": [
        "# Calculating the top 100 correlations\n",
        "x = np.concatenate((y,inputData),axis=1)        # Combines inputs with the output vector to calculate correlations\n",
        "dfX = pd.DataFrame(x)                           # Copies x to a DataFrame\n",
        "dfCorr = dfX.corr(method='pearson')             # Calculates correlations\n",
        "corr = dfCorr.values                            \n",
        "ind = np.argpartition(corr[0],-101)[-101:]      # Finds top 101 maximum values (top 100 values and the 1.0 correlation from the output with itself)\n",
        "wrongInd = ind[:-1]                             # Deletes the last value (the 1.0 correlation)\n",
        "wrongX = x[:,wrongInd]                          # Copies the 100 predictors with highest correlation to class labels\n",
        "nbrs = KNeighborsClassifier(n_neighbors=1)      # 1-nearest neighbor classifier \n",
        "\n",
        "# 5-fold cross validation\n",
        "kf = KFold(n_splits=numFolds)\n",
        "score = np.zeros( (numFolds,1) )\n",
        "row = 0\n",
        "for train_index, test_index in kf.split(wrongX):\n",
        "    nbrs.fit(wrongX[train_index], y[train_index].ravel())       # Fits the classifier using training data\n",
        "    score[row] = nbrs.score(wrongX[test_index],y[test_index])   # Scores the prediction on test data\n",
        "    row += 1\n",
        "\n",
        "accuracy = avgAccuracy(score)\n",
        "print(\"Average Accuracy: \",end=\"\")\n",
        "print(accuracy[0]*100,end=\"%\\n\")"
      ],
      "execution_count": null,
      "outputs": [
        {
          "output_type": "stream",
          "text": [
            "Average Accuracy: 96.0%\n"
          ],
          "name": "stdout"
        }
      ]
    },
    {
      "cell_type": "markdown",
      "metadata": {
        "id": "-gWnX7Xwy7kx",
        "colab_type": "text"
      },
      "source": [
        "# The Right Way\n",
        "\n",
        "---\n",
        "\n",
        "Percent correct is usually around 50%"
      ]
    },
    {
      "cell_type": "code",
      "metadata": {
        "id": "NMmPEyvHy-Et",
        "colab_type": "code",
        "colab": {
          "base_uri": "https://localhost:8080/",
          "height": 34
        },
        "outputId": "d014080c-e2aa-441d-b98a-10b5831dd07f"
      },
      "source": [
        "kf = KFold(n_splits=numFolds)\n",
        "score = np.zeros( (numFolds,1) )\n",
        "row = 0\n",
        "for train_index, test_index in kf.split(inputData):\n",
        "    # Calculate top 100 correlated predictors\n",
        "    x = np.concatenate((y,inputData),axis=1)                    # Combines inputs with the output vector to calculate correlations\n",
        "    dfX = pd.DataFrame(x[train_index])                          # Copies fold k to a DataFrame\n",
        "    dfCorr = dfX.corr(method='pearson')                         # Calculates correlations\n",
        "    corr = dfCorr.values                                        \n",
        "    np.delete(corr,0,1)                                         # Deletes column with output correlation with itself\n",
        "    ind = np.argpartition(corr[0],-100)[-100:]                  # Finds top 100 maximum values\n",
        "    rightX = x[:,ind]                                           # Copies top 100 columns\n",
        "\n",
        "    # 5-fold cross validation\n",
        "    nbrs.fit(rightX[train_index], y[train_index].ravel())            # Fits the classifier using training data\n",
        "    score[row] = nbrs.score(rightX[test_index],y[test_index])        # Scores the prediction on test data\n",
        "    row += 1\n",
        "\n",
        "accuracy = avgAccuracy(score)\n",
        "print(\"Average Accuracy: \",end=\"\")\n",
        "print(accuracy[0]*100,end=\"%\\n\")"
      ],
      "execution_count": null,
      "outputs": [
        {
          "output_type": "stream",
          "text": [
            "Average Accuracy: 41.99999999999999%\n"
          ],
          "name": "stdout"
        }
      ]
    }
  ]
}
